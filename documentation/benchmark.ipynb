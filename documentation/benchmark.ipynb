{
 "cells": [
  {
   "cell_type": "code",
   "execution_count": null,
   "id": "a084f537",
   "metadata": {},
   "outputs": [],
   "source": [
    "import os\n",
    "from os import listdir\n",
    "dataset_dir = 'tomatoDataset(Augmented)'\n",
    "if os.path.exists(dataset_dir):\n",
    "\tall_folders = listdir(dataset_dir)\n",
    "\tprint(\"All folders in dataset:\", all_folders)\n",
    "else:\n",
    "\tprint(f\"Directory '{dataset_dir}' does not exist.\")\n",
    "\tall_folders = []\n",
    "\n",
    "plant_folders = [folder for folder in all_folders if os.path.isdir(os.path.join(dataset_dir, folder))]\n",
    "print(\"Plant folders:\", plant_folders)"
   ]
  },
  {
   "cell_type": "code",
   "execution_count": null,
   "id": "fae4d399",
   "metadata": {},
   "outputs": [],
   "source": [
    "dataset_dir = 'tomatoDataset(Augmented)'\n",
    "all_folders = listdir(dataset_dir)\n",
    "print(\"All folders in dataset:\", all_folders)\n",
    "\n",
    "plant_folders = [folder for folder in all_folders if os.path.isdir(os.path.join(dataset_dir, folder))]\n",
    "print(\"Plant folders:\", plant_folders)"
   ]
  },
  {
   "cell_type": "code",
   "execution_count": null,
   "id": "ab703ccb",
   "metadata": {},
   "outputs": [],
   "source": [
    "import tensorflow as tf\n",
    "from tensorflow.keras.preprocessing import image_dataset_from_directory\n",
    "\n",
    "# Load validation dataset using Keras utility\n",
    "valid_dir = os.path.join(dataset_dir, 'valid')\n",
    "valid_dataset = image_dataset_from_directory(\n",
    "    valid_dir,\n",
    "    image_size=(256, 256),\n",
    "    batch_size=32,\n",
    "    shuffle=False,\n",
    "    label_mode='categorical'  # Ensures labels are one-hot encoded\n",
    ")\n",
    "\n",
    "# Load your trained Keras model\n",
    "model = tf.keras.models.load_model(r'/path/to/your/local/model/leaf_model.keras') # Change to your model's path\n",
    "\n",
    "# Evaluate the model\n",
    "loss, accuracy = model.evaluate(valid_dataset)\n",
    "print(f'Validation Accuracy: {accuracy:.2%}')\n"
   ]
  },
  {
   "cell_type": "code",
   "execution_count": null,
   "id": "1d56dedb",
   "metadata": {},
   "outputs": [],
   "source": [
    "from sklearn.metrics import classification_report\n",
    "import numpy as np\n",
    "\n",
    "# Get class names from the dataset\n",
    "class_names = valid_dataset.class_names\n",
    "\n",
    "# Collect true labels and predictions\n",
    "y_true = []\n",
    "y_pred = []\n",
    "\n",
    "for images, labels in valid_dataset:\n",
    "    preds = model.predict(images)\n",
    "    y_true.extend(np.argmax(labels.numpy(), axis=1))\n",
    "    y_pred.extend(np.argmax(preds, axis=1))\n",
    "\n",
    "# Generate classification report\n",
    "report = classification_report(y_true, y_pred, target_names=class_names)\n",
    "print(report)"
   ]
  }
 ],
 "metadata": {
  "language_info": {
   "name": "python"
  }
 },
 "nbformat": 4,
 "nbformat_minor": 5
}
