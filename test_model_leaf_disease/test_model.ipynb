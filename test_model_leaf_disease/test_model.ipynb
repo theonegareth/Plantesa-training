{
 "cells": [
  {
   "cell_type": "code",
   "execution_count": null,
   "id": "ba7e59f8",
   "metadata": {},
   "outputs": [],
   "source": [
    "def benchmark_model(model, dataset, metric_fn):\n",
    "    \"\"\"\n",
    "    Benchmarks a trained model on a given dataset using a specified metric function.\n",
    "\n",
    "    Args:\n",
    "        model: Trained model with a .predict() method.\n",
    "        dataset: Tuple (X, y) where X is input data and y are true labels/targets.\n",
    "        metric_fn: Function that takes (y_true, y_pred) and returns a score.\n",
    "\n",
    "    Returns:\n",
    "        score: The computed metric score.\n",
    "    \"\"\"\n",
    "    X, y_true = dataset\n",
    "    y_pred = model.predict(X)\n",
    "    score = metric_fn(y_true, y_pred)\n",
    "    return score"
   ]
  },
  {
   "cell_type": "code",
   "execution_count": null,
   "id": "63c88610",
   "metadata": {},
   "outputs": [],
   "source": []
  }
 ],
 "metadata": {
  "kernelspec": {
   "display_name": "Python 3",
   "language": "python",
   "name": "python3"
  },
  "language_info": {
   "name": "python",
   "version": "3.12.5"
  }
 },
 "nbformat": 4,
 "nbformat_minor": 5
}
