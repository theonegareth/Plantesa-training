{
 "cells": [
  {
   "cell_type": "markdown",
   "metadata": {},
   "source": [
    "Download openCV"
   ]
  },
  {
   "cell_type": "code",
   "execution_count": null,
   "metadata": {},
   "outputs": [],
   "source": [
    "!py -m pip uninstall openCV-python-headless\n",
    "!py -m pip install openCV-python"
   ]
  },
  {
   "cell_type": "markdown",
   "metadata": {},
   "source": [
    "Test openCV using image"
   ]
  },
  {
   "cell_type": "code",
   "execution_count": 1,
   "metadata": {},
   "outputs": [],
   "source": [
    "import cv2\n",
    "\n",
    "image = cv2.imread('image.jpg')\n",
    "if image is None:\n",
    "    print(\"Error: Image not found or path is incorrect\")\n",
    "    exit()\n",
    "\n",
    "cv2.imshow('Image', image)\n",
    "cv2.waitKey(0)\n",
    "cv2.destroyAllWindows()\n"
   ]
  },
  {
   "cell_type": "markdown",
   "metadata": {},
   "source": [
    "Test openCV using webcam"
   ]
  },
  {
   "cell_type": "code",
   "execution_count": 1,
   "metadata": {},
   "outputs": [],
   "source": [
    "import cv2\n",
    "\n",
    "cap = cv2.VideoCapture(0)  # 0 for default camera\n",
    "\n",
    "while True:\n",
    "    ret, frame = cap.read()\n",
    "    if not ret:\n",
    "        break\n",
    "\n",
    "    cv2.imshow(\"Webcam\", frame)\n",
    "\n",
    "    if cv2.waitKey(1) & 0xFF == ord('q'):\n",
    "        break\n",
    "\n",
    "cap.release()\n",
    "cv2.destroyAllWindows()\n"
   ]
  },
  {
   "cell_type": "markdown",
   "metadata": {},
   "source": [
    "Webcam human detection"
   ]
  },
  {
   "cell_type": "code",
   "execution_count": 2,
   "metadata": {},
   "outputs": [],
   "source": [
    "import cv2\n",
    "\n",
    "# Initialize video capture (0 for default webcam)\n",
    "cap = cv2.VideoCapture(0)\n",
    "\n",
    "# Initialize the HOG descriptor/person detector\n",
    "hog = cv2.HOGDescriptor()\n",
    "hog.setSVMDetector(cv2.HOGDescriptor_getDefaultPeopleDetector())\n",
    "\n",
    "while True:\n",
    "    ret, frame = cap.read()\n",
    "    if not ret:\n",
    "        break\n",
    "\n",
    "    # Detect people in the frame\n",
    "    (rects, weights) = hog.detectMultiScale(frame, winStride=(8, 8), padding=(16, 16), scale=1.05)\n",
    "\n",
    "    # Draw bounding boxes\n",
    "    for (x, y, w, h) in rects:\n",
    "        cv2.rectangle(frame, (x, y), (x + w, y + h), (0, 255, 0), 2)\n",
    "\n",
    "    cv2.imshow(\"Webcam Human Detection\", frame)\n",
    "    if cv2.waitKey(33) & 0xFF == ord('q'):\n",
    "        break\n",
    "\n",
    "cap.release()\n",
    "cv2.destroyAllWindows()\n"
   ]
  },
  {
   "cell_type": "markdown",
   "metadata": {},
   "source": [
    "Leaf detector using green mask (image)"
   ]
  },
  {
   "cell_type": "code",
   "execution_count": null,
   "metadata": {},
   "outputs": [
    {
     "name": "stdout",
     "output_type": "stream",
     "text": [
      "Number of detected leaf regions: 2\n"
     ]
    },
    {
     "ename": "",
     "evalue": "",
     "output_type": "error",
     "traceback": [
      "\u001b[1;31mThe Kernel crashed while executing code in the current cell or a previous cell. \n",
      "\u001b[1;31mPlease review the code in the cell(s) to identify a possible cause of the failure. \n",
      "\u001b[1;31mClick <a href='https://aka.ms/vscodeJupyterKernelCrash'>here</a> for more info. \n",
      "\u001b[1;31mView Jupyter <a href='command:jupyter.viewOutput'>log</a> for further details."
     ]
    }
   ],
   "source": [
    "import cv2\n",
    "import numpy as np\n",
    "\n",
    "# 1. Load the image\n",
    "image = cv2.imread('leaf.png')  # Replace 'leaf.jpg' with your image path\n",
    "if image is None:\n",
    "    print(\"Error: Image not found.\")\n",
    "    exit()\n",
    "\n",
    "# 2. Convert the image from BGR to HSV\n",
    "hsv = cv2.cvtColor(image, cv2.COLOR_BGR2HSV)\n",
    "\n",
    "# 3. Define range for green color and create a mask\n",
    "# Adjust these values based on your image's lighting and the shade of green in your leaves\n",
    "lower_green = np.array([25, 40, 40])\n",
    "upper_green = np.array([85, 255, 255])\n",
    "mask = cv2.inRange(hsv, lower_green, upper_green)\n",
    "\n",
    "# 4. Apply morphological operations to reduce noise\n",
    "kernel = np.ones((5, 5), np.uint8)\n",
    "mask = cv2.morphologyEx(mask, cv2.MORPH_OPEN, kernel)\n",
    "mask = cv2.morphologyEx(mask, cv2.MORPH_CLOSE, kernel)\n",
    "\n",
    "# 5. Find contours in the mask\n",
    "contours, _ = cv2.findContours(mask, cv2.RETR_EXTERNAL, cv2.CHAIN_APPROX_SIMPLE)\n",
    "\n",
    "# 6. Draw the contours on the original image\n",
    "output = image.copy()\n",
    "cv2.drawContours(output, contours, -1, (0, 0, 255), 2)\n",
    "\n",
    "# Optionally, display the number of detected leaves\n",
    "print(\"Number of detected leaf regions:\", len(contours))\n",
    "\n",
    "# 7. Display the results\n",
    "cv2.imshow(\"Original Image\", image)\n",
    "cv2.imshow(\"Green Mask\", mask)\n",
    "cv2.imshow(\"Detected Leaves\", output)\n",
    "cv2.waitKey(0)\n",
    "cv2.destroyAllWindows()\n"
   ]
  },
  {
   "cell_type": "markdown",
   "metadata": {},
   "source": [
    "Leaf detector using green mask (webcam)"
   ]
  },
  {
   "cell_type": "code",
   "execution_count": 6,
   "metadata": {},
   "outputs": [],
   "source": [
    "import cv2\n",
    "import numpy as np\n",
    "\n",
    "# Initialize video capture (0 for default webcam)\n",
    "cap = cv2.VideoCapture(0)\n",
    "\n",
    "if not cap.isOpened():\n",
    "    print(\"Error: Could not open video capture\")\n",
    "    exit()\n",
    "\n",
    "# Loop over frames from the camera\n",
    "while True:\n",
    "    ret, frame = cap.read()\n",
    "    if not ret:\n",
    "        print(\"Error: Failed to capture frame\")\n",
    "        break\n",
    "\n",
    "    # Convert the frame from BGR to HSV\n",
    "    hsv = cv2.cvtColor(frame, cv2.COLOR_BGR2HSV)\n",
    "\n",
    "    # Define range for green color (adjust these values as needed)\n",
    "    lower_green = np.array([25, 40, 40])\n",
    "    upper_green = np.array([85, 255, 255])\n",
    "    mask = cv2.inRange(hsv, lower_green, upper_green)\n",
    "\n",
    "    # Apply morphological operations to reduce noise\n",
    "    kernel = np.ones((5, 5), np.uint8)\n",
    "    mask = cv2.morphologyEx(mask, cv2.MORPH_OPEN, kernel)\n",
    "    mask = cv2.morphologyEx(mask, cv2.MORPH_CLOSE, kernel)\n",
    "\n",
    "    # Find contours from the mask\n",
    "    contours, _ = cv2.findContours(mask, cv2.RETR_EXTERNAL, cv2.CHAIN_APPROX_SIMPLE)\n",
    "\n",
    "    # Loop over the contours and filter/draw them\n",
    "    for cnt in contours:\n",
    "        # Optionally filter small contours by area (e.g., area > 500 pixels)\n",
    "        if cv2.contourArea(cnt) > 500:\n",
    "            x, y, w, h = cv2.boundingRect(cnt)\n",
    "            cv2.rectangle(frame, (x, y), (x+w, y+h), (0, 0, 255), 2)\n",
    "            # Optionally, draw the contour itself:\n",
    "            # cv2.drawContours(frame, [cnt], -1, (255, 0, 0), 2)\n",
    "\n",
    "    # Display the original frame and the mask (for debugging)\n",
    "    cv2.imshow(\"Leaf Detection\", frame)\n",
    "    cv2.imshow(\"Green Mask\", mask)\n",
    "\n",
    "    # Exit if 'q' key is pressed\n",
    "    if cv2.waitKey(1) & 0xFF == ord('q'):\n",
    "        break\n",
    "\n",
    "cap.release()\n",
    "cv2.destroyAllWindows()\n"
   ]
  },
  {
   "cell_type": "markdown",
   "metadata": {},
   "source": [
    "Detect brownspots on leafs (image)"
   ]
  },
  {
   "cell_type": "code",
   "execution_count": 7,
   "metadata": {},
   "outputs": [],
   "source": [
    "import cv2\n",
    "import numpy as np\n",
    "\n",
    "# 1. Load and preprocess the image\n",
    "image = cv2.imread('leafFungus.jpg')  # Replace with your image path\n",
    "if image is None:\n",
    "    print(\"Error: Image not found.\")\n",
    "    exit()\n",
    "\n",
    "# Optional: Resize for faster processing\n",
    "image = cv2.resize(image, (600, 400))\n",
    "\n",
    "# Apply a slight blur to reduce noise\n",
    "blurred = cv2.GaussianBlur(image, (5, 5), 0)\n",
    "\n",
    "# 2. Convert image to HSV color space\n",
    "hsv = cv2.cvtColor(blurred, cv2.COLOR_BGR2HSV)\n",
    "\n",
    "# 3. Define range for brown (dead spots) in HSV\n",
    "# Note: Adjust these values based on your image and lighting conditions\n",
    "lower_brown = np.array([10, 50, 20])\n",
    "upper_brown = np.array([20, 255, 200])\n",
    "mask = cv2.inRange(hsv, lower_brown, upper_brown)\n",
    "\n",
    "# 4. Clean up the mask with morphological operations\n",
    "kernel = np.ones((5, 5), np.uint8)\n",
    "mask = cv2.morphologyEx(mask, cv2.MORPH_OPEN, kernel)\n",
    "mask = cv2.morphologyEx(mask, cv2.MORPH_CLOSE, kernel)\n",
    "\n",
    "# 5. Detect contours in the mask\n",
    "contours, _ = cv2.findContours(mask, cv2.RETR_EXTERNAL, cv2.CHAIN_APPROX_SIMPLE)\n",
    "\n",
    "# 6. Draw bounding boxes around detected brown/dead spots\n",
    "output = image.copy()\n",
    "for cnt in contours:\n",
    "    if cv2.contourArea(cnt) > 100:  # Filter out small regions; adjust threshold as needed\n",
    "        x, y, w, h = cv2.boundingRect(cnt)\n",
    "        cv2.rectangle(output, (x, y), (x + w, y + h), (0, 0, 255), 2)\n",
    "\n",
    "# Display the original image, mask, and output\n",
    "cv2.imshow(\"Original Image\", image)\n",
    "cv2.imshow(\"Brown Mask\", mask)\n",
    "cv2.imshow(\"Detected Dead Spots\", output)\n",
    "cv2.waitKey(0)\n",
    "cv2.destroyAllWindows()\n"
   ]
  },
  {
   "cell_type": "markdown",
   "metadata": {},
   "source": [
    "### Making the Detection of the leaf better"
   ]
  },
  {
   "cell_type": "markdown",
   "metadata": {},
   "source": [
    "Scaling the image to only 256x256 for real-time use."
   ]
  },
  {
   "cell_type": "code",
   "execution_count": null,
   "metadata": {},
   "outputs": [],
   "source": []
  },
  {
   "cell_type": "code",
   "execution_count": null,
   "metadata": {},
   "outputs": [
    {
     "name": "stdout",
     "output_type": "stream",
     "text": [
      "Error: Image not found.\n"
     ]
    },
    {
     "ename": "error",
     "evalue": "OpenCV(4.11.0) D:\\a\\opencv-python\\opencv-python\\opencv\\modules\\imgproc\\src\\resize.cpp:4208: error: (-215:Assertion failed) !ssize.empty() in function 'cv::resize'\n",
     "output_type": "error",
     "traceback": [
      "\u001b[1;31m---------------------------------------------------------------------------\u001b[0m",
      "\u001b[1;31merror\u001b[0m                                     Traceback (most recent call last)",
      "Cell \u001b[1;32mIn[1], line 11\u001b[0m\n\u001b[0;32m      8\u001b[0m     exit()\n\u001b[0;32m     10\u001b[0m \u001b[38;5;66;03m# Scale the image to 256x256\u001b[39;00m\n\u001b[1;32m---> 11\u001b[0m image \u001b[38;5;241m=\u001b[39m \u001b[43mcv2\u001b[49m\u001b[38;5;241;43m.\u001b[39;49m\u001b[43mresize\u001b[49m\u001b[43m(\u001b[49m\u001b[43mimage\u001b[49m\u001b[43m,\u001b[49m\u001b[43m \u001b[49m\u001b[43m(\u001b[49m\u001b[38;5;241;43m256\u001b[39;49m\u001b[43m,\u001b[49m\u001b[43m \u001b[49m\u001b[38;5;241;43m256\u001b[39;49m\u001b[43m)\u001b[49m\u001b[43m)\u001b[49m\n\u001b[0;32m     13\u001b[0m \u001b[38;5;66;03m# 2. Apply Gaussian blur to reduce noise\u001b[39;00m\n\u001b[0;32m     14\u001b[0m blurred \u001b[38;5;241m=\u001b[39m cv2\u001b[38;5;241m.\u001b[39mGaussianBlur(image, (\u001b[38;5;241m5\u001b[39m, \u001b[38;5;241m5\u001b[39m), \u001b[38;5;241m0\u001b[39m)\n",
      "\u001b[1;31merror\u001b[0m: OpenCV(4.11.0) D:\\a\\opencv-python\\opencv-python\\opencv\\modules\\imgproc\\src\\resize.cpp:4208: error: (-215:Assertion failed) !ssize.empty() in function 'cv::resize'\n"
     ]
    },
    {
     "ename": "",
     "evalue": "",
     "output_type": "error",
     "traceback": [
      "\u001b[1;31mThe Kernel crashed while executing code in the current cell or a previous cell. \n",
      "\u001b[1;31mPlease review the code in the cell(s) to identify a possible cause of the failure. \n",
      "\u001b[1;31mClick <a href='https://aka.ms/vscodeJupyterKernelCrash'>here</a> for more info. \n",
      "\u001b[1;31mView Jupyter <a href='command:jupyter.viewOutput'>log</a> for further details."
     ]
    }
   ],
   "source": [
    "import cv2\n",
    "import numpy as np\n",
    "\n",
    "# 1. Load the image\n",
    "image = cv2.imread('leafFungus.png')  # Replace 'leaf.png' with your image path\n",
    "if image is None:\n",
    "    print(\"Error: Image not found.\")\n",
    "    exit()\n",
    "\n",
    "# Scale the image to 256x256\n",
    "image = cv2.resize(image, (256, 256))\n",
    "\n",
    "# 2. Apply Gaussian blur to reduce noise\n",
    "blurred = cv2.GaussianBlur(image, (5, 5), 0)\n",
    "\n",
    "# 3. Convert the image from BGR to HSV\n",
    "hsv = cv2.cvtColor(blurred, cv2.COLOR_BGR2HSV)\n",
    "\n",
    "# 4. Define range for green color and create a mask\n",
    "lower_green = np.array([30, 40, 40])  # Adjust these values as needed\n",
    "upper_green = np.array([90, 255, 255])\n",
    "mask = cv2.inRange(hsv, lower_green, upper_green)\n",
    "\n",
    "# 5. Apply morphological operations to reduce noise\n",
    "kernel = np.ones((7, 7), np.uint8)\n",
    "mask = cv2.morphologyEx(mask, cv2.MORPH_OPEN, kernel)\n",
    "mask = cv2.morphologyEx(mask, cv2.MORPH_CLOSE, kernel)\n",
    "\n",
    "# 6. Find contours in the mask\n",
    "contours, _ = cv2.findContours(mask, cv2.RETR_EXTERNAL, cv2.CHAIN_APPROX_SIMPLE)\n",
    "\n",
    "# 7. Filter contours by area to remove noise\n",
    "min_area = 500  # Minimum area to consider a contour as a leaf\n",
    "filtered_contours = [cnt for cnt in contours if cv2.contourArea(cnt) > min_area]\n",
    "\n",
    "# 8. Draw bounding boxes around each detected leaf\n",
    "output = image.copy()\n",
    "for cnt in filtered_contours:\n",
    "    x, y, w, h = cv2.boundingRect(cnt)  # Get bounding box for each contour\n",
    "    cv2.rectangle(output, (x, y), (x + w, y + h), (0, 0, 255), 2)  # Draw rectangle\n",
    "\n",
    "# Optionally, display the number of detected leaves\n",
    "print(\"Number of detected leaves:\", len(filtered_contours))\n",
    "\n",
    "# 9. Display the results\n",
    "cv2.imshow(\"Original Image\", image)\n",
    "cv2.imshow(\"Green Mask\", mask)\n",
    "cv2.imshow(\"Detected Leaves\", output)\n",
    "cv2.waitKey(0)\n",
    "cv2.destroyAllWindows()"
   ]
  }
 ],
 "metadata": {
  "kernelspec": {
   "display_name": "Python 3",
   "language": "python",
   "name": "python3"
  },
  "language_info": {
   "codemirror_mode": {
    "name": "ipython",
    "version": 3
   },
   "file_extension": ".py",
   "mimetype": "text/x-python",
   "name": "python",
   "nbconvert_exporter": "python",
   "pygments_lexer": "ipython3",
   "version": "3.12.5"
  }
 },
 "nbformat": 4,
 "nbformat_minor": 2
}
