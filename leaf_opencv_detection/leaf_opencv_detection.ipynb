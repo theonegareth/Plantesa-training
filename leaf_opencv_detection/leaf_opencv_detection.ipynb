{
 "cells": [
  {
   "cell_type": "markdown",
   "metadata": {},
   "source": [
    "Download openCV"
   ]
  },
  {
   "cell_type": "code",
   "execution_count": null,
   "metadata": {},
   "outputs": [],
   "source": [
    "!py -m pip uninstall openCV-python-headless\n",
    "!py -m pip install openCV-python"
   ]
  },
  {
   "cell_type": "markdown",
   "metadata": {},
   "source": [
    "```markdown\n",
    "### Downloading OpenCV\n",
    "\n",
    "OpenCV (Open Source Computer Vision Library) is a popular library for computer vision tasks. To use OpenCV, you need to install it in your Python environment. This can be done using pip. If you have previously installed `opencv-python-headless`, it is recommended to uninstall it first to avoid conflicts with the full `opencv-python` package.\n",
    "```"
   ]
  },
  {
   "cell_type": "markdown",
   "metadata": {},
   "source": [
    "Test openCV using image"
   ]
  },
  {
   "cell_type": "code",
   "execution_count": null,
   "metadata": {},
   "outputs": [],
   "source": [
    "import cv2\n",
    "\n",
    "image = cv2.imread('image.jpg')\n",
    "if image is None:\n",
    "    print(\"Error: Image not found or path is incorrect\")\n",
    "    exit()\n",
    "\n",
    "cv2.imshow('Image', image)\n",
    "cv2.waitKey(0)\n",
    "cv2.destroyAllWindows()"
   ]
  },
  {
   "cell_type": "markdown",
   "metadata": {},
   "source": [
    "```markdown\n",
    "### Testing OpenCV with an Image\n",
    "\n",
    "Testing the functionality of OpenCV by loading and displaying an image. The steps involved are:\n",
    "\n",
    "1. **Loading the Image**:\n",
    "    - The image is loaded using `cv2.imread()`. If the image is not found or the path is incorrect, an error message is displayed, and the program exits.\n",
    "\n",
    "2. **Displaying the Image**:\n",
    "    - The loaded image is displayed in a window using `cv2.imshow()`. The program waits for a key press (`cv2.waitKey(0)`) before closing the window.\n",
    "\n",
    "3. **Releasing Resources**:\n",
    "    - After displaying the image, all OpenCV windows are closed using `cv2.destroyAllWindows()` to free up resources.\n",
    "\n",
    "This test ensures that OpenCV is correctly installed and can handle basic image processing tasks.\n",
    "```"
   ]
  },
  {
   "cell_type": "markdown",
   "metadata": {},
   "source": [
    "Test openCV using webcam"
   ]
  },
  {
   "cell_type": "code",
   "execution_count": 1,
   "metadata": {},
   "outputs": [],
   "source": [
    "import cv2\n",
    "\n",
    "cap = cv2.VideoCapture(0)  # 0 for default camera\n",
    "\n",
    "while True:\n",
    "    ret, frame = cap.read()\n",
    "    if not ret:\n",
    "        break\n",
    "\n",
    "    cv2.imshow(\"Webcam\", frame)\n",
    "\n",
    "    if cv2.waitKey(1) & 0xFF == ord('q'):\n",
    "        break\n",
    "\n",
    "cap.release()\n",
    "cv2.destroyAllWindows()\n"
   ]
  },
  {
   "cell_type": "markdown",
   "metadata": {},
   "source": [
    "1. **Loading the Image**:\n",
    "    - The image is loaded using `cv2.imread()`. If the image is not found, the program exits with an error message.\n",
    "\n",
    "2. **Resizing the Image**:\n",
    "    - The image is resized to a fixed size of `256x256` pixels using `cv2.resize()`. This ensures consistent processing and is particularly useful for real-time applications.\n",
    "\n",
    "3. **Noise Reduction**:\n",
    "    - A Gaussian blur is applied to the image using `cv2.GaussianBlur()` to reduce noise and smooth the image, which helps in better color segmentation.\n",
    "\n",
    "4. **Color Space Conversion**:\n",
    "    - The image is converted from the BGR color space to the HSV color space using `cv2.cvtColor()`. HSV is better suited for color-based segmentation.\n",
    "\n",
    "5. **Green Color Masking**:\n",
    "    - A range for green color is defined using `np.array()` for the lower and upper bounds in HSV. A mask is created using `cv2.inRange()`, which highlights the green regions in the image.\n",
    "\n",
    "6. **Morphological Operations**:\n",
    "    - Morphological operations (`cv2.morphologyEx()`) are applied to the mask to remove noise and fill small gaps. The operations used are:\n",
    "      - **Opening**: Removes small noise.\n",
    "      - **Closing**: Fills small holes in the detected regions.\n",
    "\n",
    "7. **Contour Detection**:\n",
    "    - Contours are detected in the mask using `cv2.findContours()`. Contours represent the boundaries of the detected regions.\n",
    "\n",
    "8. **Filtering Contours**:\n",
    "    - Contours are filtered based on their area using `cv2.contourArea()`. Only contours with an area greater than a specified threshold (`500` pixels) are considered as valid leaves.\n",
    "\n",
    "9. **Drawing Bounding Boxes**:\n",
    "    - For each valid contour, a bounding box is drawn around the detected leaf using `cv2.rectangle()`.\n",
    "\n",
    "10. **Displaying Results**:\n",
    "     - The original image, the green mask, and the output image with bounding boxes are displayed using `cv2.imshow()`. The program waits for a key press (`cv2.waitKey(0)`) before closing the windows.\n",
    "\n",
    "11. **Leaf Count**:\n",
    "     - The number of detected leaves is printed to the console using `print()`.\n",
    "\n",
    "This code is useful for detecting leaves in an image based on their green color and can be adapted for other applications by adjusting the color range and parameters."
   ]
  },
  {
   "cell_type": "markdown",
   "metadata": {},
   "source": [
    "Webcam human detection"
   ]
  },
  {
   "cell_type": "code",
   "execution_count": null,
   "metadata": {},
   "outputs": [],
   "source": [
    "import cv2\n",
    "\n",
    "# Initialize video capture (0 for default webcam)\n",
    "cap = cv2.VideoCapture(0)\n",
    "\n",
    "# Initialize the HOG descriptor/person detector\n",
    "hog = cv2.HOGDescriptor()\n",
    "hog.setSVMDetector(cv2.HOGDescriptor_getDefaultPeopleDetector())\n",
    "\n",
    "while True:\n",
    "    ret, frame = cap.read()\n",
    "    if not ret:\n",
    "        break\n",
    "\n",
    "    # Detect people in the frame\n",
    "    (rects, weights) = hog.detectMultiScale(frame, winStride=(8, 8), padding=(16, 16), scale=1.05)\n",
    "\n",
    "    # Draw bounding boxes\n",
    "    for (x, y, w, h) in rects:\n",
    "        cv2.rectangle(frame, (x, y), (x + w, y + h), (0, 255, 0), 2)\n",
    "\n",
    "    cv2.imshow(\"Webcam Human Detection\", frame)\n",
    "    if cv2.waitKey(33) & 0xFF == ord('q'):\n",
    "        break\n",
    "\n",
    "cap.release()\n",
    "cv2.destroyAllWindows()\n"
   ]
  },
  {
   "cell_type": "markdown",
   "metadata": {},
   "source": [
    "```markdown\n",
    "### Webcam Human Detection\n",
    "\n",
    "This section demonstrates how to use OpenCV's HOG (Histogram of Oriented Gradients) descriptor for detecting humans in real-time using a webcam. The workflow involves:\n",
    "\n",
    "1. **Initializing the Webcam**:\n",
    "    - The default webcam is accessed using `cv2.VideoCapture(0)`.\n",
    "\n",
    "2. **Setting Up the HOG Descriptor**:\n",
    "    - The HOG descriptor is initialized using `cv2.HOGDescriptor()`.\n",
    "    - The default people detector is set using `hog.setSVMDetector(cv2.HOGDescriptor_getDefaultPeopleDetector())`.\n",
    "\n",
    "3. **Capturing Frames**:\n",
    "    - Frames are captured in a loop using `cap.read()`. If a frame is not successfully captured, the loop breaks.\n",
    "\n",
    "4. **Detecting Humans**:\n",
    "    - The `hog.detectMultiScale()` method is used to detect humans in the frame. Parameters such as `winStride`, `padding`, and `scale` are adjusted to optimize detection.\n",
    "\n",
    "5. **Drawing Bounding Boxes**:\n",
    "    - For each detected human, a bounding box is drawn around them using `cv2.rectangle()`.\n",
    "\n",
    "6. **Displaying the Results**:\n",
    "    - The processed frame with bounding boxes is displayed in a window using `cv2.imshow()`.\n",
    "\n",
    "7. **Exiting the Loop**:\n",
    "    - The loop continues until the 'q' key is pressed, at which point the webcam is released, and all OpenCV windows are closed.\n",
    "\n",
    "This implementation is useful for real-time human detection and can be extended for applications such as surveillance, crowd monitoring, or pedestrian detection.\n",
    "```"
   ]
  },
  {
   "cell_type": "markdown",
   "metadata": {},
   "source": [
    "Leaf detector using green mask (image)"
   ]
  },
  {
   "cell_type": "markdown",
   "metadata": {},
   "source": [
    "### What is a Mask?\n",
    "\n",
    "In computer vision, a mask is a binary image where certain regions of interest are highlighted while others are suppressed. Each pixel in the mask has a value of either 0 (black) or 255 (white). The white regions represent the areas of interest (e.g., green leaves), while the black regions represent the background or areas to ignore. Masks are commonly used for segmentation, object detection, and filtering specific parts of an image.\n"
   ]
  },
  {
   "cell_type": "code",
   "execution_count": null,
   "metadata": {},
   "outputs": [
    {
     "name": "stdout",
     "output_type": "stream",
     "text": [
      "Error: Image not found.\n"
     ]
    },
    {
     "ename": "error",
     "evalue": "OpenCV(4.11.0) D:\\a\\opencv-python\\opencv-python\\opencv\\modules\\imgproc\\src\\color.cpp:199: error: (-215:Assertion failed) !_src.empty() in function 'cv::cvtColor'\n",
     "output_type": "error",
     "traceback": [
      "\u001b[1;31m---------------------------------------------------------------------------\u001b[0m",
      "\u001b[1;31merror\u001b[0m                                     Traceback (most recent call last)",
      "Cell \u001b[1;32mIn[1], line 11\u001b[0m\n\u001b[0;32m      8\u001b[0m     exit()\n\u001b[0;32m     10\u001b[0m \u001b[38;5;66;03m# 2. Convert the image from BGR to HSV\u001b[39;00m\n\u001b[1;32m---> 11\u001b[0m hsv \u001b[38;5;241m=\u001b[39m \u001b[43mcv2\u001b[49m\u001b[38;5;241;43m.\u001b[39;49m\u001b[43mcvtColor\u001b[49m\u001b[43m(\u001b[49m\u001b[43mimage\u001b[49m\u001b[43m,\u001b[49m\u001b[43m \u001b[49m\u001b[43mcv2\u001b[49m\u001b[38;5;241;43m.\u001b[39;49m\u001b[43mCOLOR_BGR2HSV\u001b[49m\u001b[43m)\u001b[49m\n\u001b[0;32m     13\u001b[0m \u001b[38;5;66;03m# 3. Define range for green color and create a mask\u001b[39;00m\n\u001b[0;32m     14\u001b[0m \u001b[38;5;66;03m# Adjust these values based on your image's lighting and the shade of green in your leaves\u001b[39;00m\n\u001b[0;32m     15\u001b[0m lower_green \u001b[38;5;241m=\u001b[39m np\u001b[38;5;241m.\u001b[39marray([\u001b[38;5;241m25\u001b[39m, \u001b[38;5;241m40\u001b[39m, \u001b[38;5;241m40\u001b[39m])\n",
      "\u001b[1;31merror\u001b[0m: OpenCV(4.11.0) D:\\a\\opencv-python\\opencv-python\\opencv\\modules\\imgproc\\src\\color.cpp:199: error: (-215:Assertion failed) !_src.empty() in function 'cv::cvtColor'\n"
     ]
    },
    {
     "ename": "",
     "evalue": "",
     "output_type": "error",
     "traceback": [
      "\u001b[1;31mThe Kernel crashed while executing code in the current cell or a previous cell. \n",
      "\u001b[1;31mPlease review the code in the cell(s) to identify a possible cause of the failure. \n",
      "\u001b[1;31mClick <a href='https://aka.ms/vscodeJupyterKernelCrash'>here</a> for more info. \n",
      "\u001b[1;31mView Jupyter <a href='command:jupyter.viewOutput'>log</a> for further details."
     ]
    }
   ],
   "source": [
    "import cv2\n",
    "import numpy as np\n",
    "\n",
    "# 1. Load the image\n",
    "image = cv2.imread('leaf.png')  # Replace 'leaf.jpg' with your image path\n",
    "if image is None:\n",
    "    print(\"Error: Image not found.\")\n",
    "    exit()\n",
    "\n",
    "# 2. Convert the image from BGR to HSV\n",
    "hsv = cv2.cvtColor(image, cv2.COLOR_BGR2HSV)\n",
    "\n",
    "# 3. Define range for green color and create a mask\n",
    "# Adjust these values based on your image's lighting and the shade of green in your leaves\n",
    "lower_green = np.array([25, 40, 40])\n",
    "upper_green = np.array([85, 255, 255])\n",
    "mask = cv2.inRange(hsv, lower_green, upper_green)\n",
    "\n",
    "# 4. Apply morphological operations to reduce noise\n",
    "kernel = np.ones((5, 5), np.uint8)\n",
    "mask = cv2.morphologyEx(mask, cv2.MORPH_OPEN, kernel)\n",
    "mask = cv2.morphologyEx(mask, cv2.MORPH_CLOSE, kernel)\n",
    "\n",
    "# 5. Find contours in the mask\n",
    "contours, _ = cv2.findContours(mask, cv2.RETR_EXTERNAL, cv2.CHAIN_APPROX_SIMPLE)\n",
    "\n",
    "# 6. Draw the contours on the original image\n",
    "output = image.copy()\n",
    "cv2.drawContours(output, contours, -1, (0, 0, 255), 2)\n",
    "\n",
    "# Optionally, display the number of detected leaves\n",
    "print(\"Number of detected leaf regions:\", len(contours))\n",
    "\n",
    "# 7. Display the results\n",
    "cv2.imshow(\"Original Image\", image)\n",
    "cv2.imshow(\"Green Mask\", mask)\n",
    "cv2.imshow(\"Detected Leaves\", output)\n",
    "cv2.waitKey(0)\n",
    "cv2.destroyAllWindows()\n"
   ]
  },
  {
   "cell_type": "markdown",
   "metadata": {},
   "source": [
    "Leaf detector using green mask (webcam)"
   ]
  },
  {
   "cell_type": "markdown",
   "metadata": {},
   "source": [
    "After detecting the leaf on the image, we will use the webcam for real-time detection."
   ]
  },
  {
   "cell_type": "code",
   "execution_count": null,
   "metadata": {},
   "outputs": [],
   "source": [
    "import cv2\n",
    "import numpy as np\n",
    "\n",
    "# Initialize video capture (0 for default webcam)\n",
    "cap = cv2.VideoCapture(0)\n",
    "\n",
    "if not cap.isOpened():\n",
    "    print(\"Error: Could not open video capture\")\n",
    "    exit()\n",
    "\n",
    "# Loop over frames from the camera\n",
    "while True:\n",
    "    ret, frame = cap.read()\n",
    "    if not ret:\n",
    "        print(\"Error: Failed to capture frame\")\n",
    "        break\n",
    "\n",
    "    # Convert the frame from BGR to HSV\n",
    "    hsv = cv2.cvtColor(frame, cv2.COLOR_BGR2HSV)\n",
    "\n",
    "    # Define range for green color (adjust these values as needed)\n",
    "    lower_green = np.array([25, 40, 40])\n",
    "    upper_green = np.array([85, 255, 255])\n",
    "    mask = cv2.inRange(hsv, lower_green, upper_green)\n",
    "\n",
    "    # Apply morphological operations to reduce noise\n",
    "    kernel = np.ones((5, 5), np.uint8)\n",
    "    mask = cv2.morphologyEx(mask, cv2.MORPH_OPEN, kernel)\n",
    "    mask = cv2.morphologyEx(mask, cv2.MORPH_CLOSE, kernel)\n",
    "\n",
    "    # Find contours from the mask\n",
    "    contours, _ = cv2.findContours(mask, cv2.RETR_EXTERNAL, cv2.CHAIN_APPROX_SIMPLE)\n",
    "\n",
    "    # Loop over the contours and filter/draw them\n",
    "    for cnt in contours:\n",
    "        # Optionally filter small contours by area (e.g., area > 500 pixels)\n",
    "        if cv2.contourArea(cnt) > 500:\n",
    "            x, y, w, h = cv2.boundingRect(cnt)\n",
    "            cv2.rectangle(frame, (x, y), (x+w, y+h), (0, 0, 255), 2)\n",
    "            # Optionally, draw the contour itself:\n",
    "            # cv2.drawContours(frame, [cnt], -1, (255, 0, 0), 2)\n",
    "\n",
    "    # Display the original frame and the mask (for debugging)\n",
    "    cv2.imshow(\"Leaf Detection\", frame)\n",
    "    cv2.imshow(\"Green Mask\", mask)\n",
    "\n",
    "    # Exit if 'q' key is pressed\n",
    "    if cv2.waitKey(1) & 0xFF == ord('q'):\n",
    "        break\n",
    "\n",
    "cap.release()\n",
    "cv2.destroyAllWindows()\n"
   ]
  },
  {
   "cell_type": "markdown",
   "metadata": {},
   "source": [
    "Detect brownspots on leafs (image)"
   ]
  },
  {
   "cell_type": "markdown",
   "metadata": {},
   "source": [
    "After detecting the leaf on the image, we will be detecting the brownspots on the leaf itself."
   ]
  },
  {
   "cell_type": "code",
   "execution_count": null,
   "metadata": {},
   "outputs": [
    {
     "name": "stdout",
     "output_type": "stream",
     "text": [
      "Error: Image not found.\n"
     ]
    },
    {
     "ename": "error",
     "evalue": "OpenCV(4.11.0) D:\\a\\opencv-python\\opencv-python\\opencv\\modules\\imgproc\\src\\resize.cpp:4208: error: (-215:Assertion failed) !ssize.empty() in function 'cv::resize'\n",
     "output_type": "error",
     "traceback": [
      "\u001b[1;31m---------------------------------------------------------------------------\u001b[0m",
      "\u001b[1;31merror\u001b[0m                                     Traceback (most recent call last)",
      "Cell \u001b[1;32mIn[1], line 11\u001b[0m\n\u001b[0;32m      8\u001b[0m     exit()\n\u001b[0;32m     10\u001b[0m \u001b[38;5;66;03m# Optional: Resize for faster processing\u001b[39;00m\n\u001b[1;32m---> 11\u001b[0m image \u001b[38;5;241m=\u001b[39m \u001b[43mcv2\u001b[49m\u001b[38;5;241;43m.\u001b[39;49m\u001b[43mresize\u001b[49m\u001b[43m(\u001b[49m\u001b[43mimage\u001b[49m\u001b[43m,\u001b[49m\u001b[43m \u001b[49m\u001b[43m(\u001b[49m\u001b[38;5;241;43m600\u001b[39;49m\u001b[43m,\u001b[49m\u001b[43m \u001b[49m\u001b[38;5;241;43m400\u001b[39;49m\u001b[43m)\u001b[49m\u001b[43m)\u001b[49m\n\u001b[0;32m     13\u001b[0m \u001b[38;5;66;03m# Apply a slight blur to reduce noise\u001b[39;00m\n\u001b[0;32m     14\u001b[0m blurred \u001b[38;5;241m=\u001b[39m cv2\u001b[38;5;241m.\u001b[39mGaussianBlur(image, (\u001b[38;5;241m5\u001b[39m, \u001b[38;5;241m5\u001b[39m), \u001b[38;5;241m0\u001b[39m)\n",
      "\u001b[1;31merror\u001b[0m: OpenCV(4.11.0) D:\\a\\opencv-python\\opencv-python\\opencv\\modules\\imgproc\\src\\resize.cpp:4208: error: (-215:Assertion failed) !ssize.empty() in function 'cv::resize'\n"
     ]
    },
    {
     "ename": "",
     "evalue": "",
     "output_type": "error",
     "traceback": [
      "\u001b[1;31mThe Kernel crashed while executing code in the current cell or a previous cell. \n",
      "\u001b[1;31mPlease review the code in the cell(s) to identify a possible cause of the failure. \n",
      "\u001b[1;31mClick <a href='https://aka.ms/vscodeJupyterKernelCrash'>here</a> for more info. \n",
      "\u001b[1;31mView Jupyter <a href='command:jupyter.viewOutput'>log</a> for further details."
     ]
    }
   ],
   "source": [
    "import cv2\n",
    "import numpy as np\n",
    "\n",
    "# 1. Load and preprocess the image\n",
    "image = cv2.imread('leafFungus.jpg')  # Replace with your image path\n",
    "if image is None:\n",
    "    print(\"Error: Image not found.\")\n",
    "    exit()\n",
    "\n",
    "# Optional: Resize for faster processing\n",
    "image = cv2.resize(image, (600, 400))\n",
    "\n",
    "# Apply a slight blur to reduce noise\n",
    "blurred = cv2.GaussianBlur(image, (5, 5), 0)\n",
    "\n",
    "# 2. Convert image to HSV color space\n",
    "hsv = cv2.cvtColor(blurred, cv2.COLOR_BGR2HSV)\n",
    "\n",
    "# 3. Define range for brown (dead spots) in HSV\n",
    "# Note: Adjust these values based on your image and lighting conditions\n",
    "lower_brown = np.array([10, 50, 20])\n",
    "upper_brown = np.array([20, 255, 200])\n",
    "mask = cv2.inRange(hsv, lower_brown, upper_brown)\n",
    "\n",
    "# 4. Clean up the mask with morphological operations\n",
    "kernel = np.ones((5, 5), np.uint8)\n",
    "mask = cv2.morphologyEx(mask, cv2.MORPH_OPEN, kernel)\n",
    "mask = cv2.morphologyEx(mask, cv2.MORPH_CLOSE, kernel)\n",
    "\n",
    "# 5. Detect contours in the mask\n",
    "contours, _ = cv2.findContours(mask, cv2.RETR_EXTERNAL, cv2.CHAIN_APPROX_SIMPLE)\n",
    "\n",
    "# 6. Draw bounding boxes around detected brown/dead spots\n",
    "output = image.copy()\n",
    "for cnt in contours:\n",
    "    if cv2.contourArea(cnt) > 100:  # Filter out small regions; adjust threshold as needed\n",
    "        x, y, w, h = cv2.boundingRect(cnt)\n",
    "        cv2.rectangle(output, (x, y), (x + w, y + h), (0, 0, 255), 2)\n",
    "\n",
    "# Display the original image, mask, and output\n",
    "cv2.imshow(\"Original Image\", image)\n",
    "cv2.imshow(\"Brown Mask\", mask)\n",
    "cv2.imshow(\"Detected Dead Spots\", output)\n",
    "cv2.waitKey(0)\n",
    "cv2.destroyAllWindows()\n"
   ]
  }
 ],
 "metadata": {
  "kernelspec": {
   "display_name": "Python 3",
   "language": "python",
   "name": "python3"
  },
  "language_info": {
   "codemirror_mode": {
    "name": "ipython",
    "version": 3
   },
   "file_extension": ".py",
   "mimetype": "text/x-python",
   "name": "python",
   "nbconvert_exporter": "python",
   "pygments_lexer": "ipython3",
   "version": "3.12.6"
  }
 },
 "nbformat": 4,
 "nbformat_minor": 2
}
